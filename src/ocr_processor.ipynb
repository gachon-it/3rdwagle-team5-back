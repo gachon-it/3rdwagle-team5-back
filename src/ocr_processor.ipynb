{
 "cells": [
  {
   "cell_type": "code",
   "execution_count": 14,
   "id": "bcfe0db8-8364-497c-beda-f3aa8a4a3f48",
   "metadata": {},
   "outputs": [
    {
     "name": "stdout",
     "output_type": "stream",
     "text": [
      "Requirement already satisfied: pytesseract in /opt/anaconda3/lib/python3.12/site-packages (0.3.13)\n",
      "Requirement already satisfied: pillow in /opt/anaconda3/lib/python3.12/site-packages (10.4.0)\n",
      "Requirement already satisfied: opencv-python in /opt/anaconda3/lib/python3.12/site-packages (4.11.0.86)\n",
      "Requirement already satisfied: packaging>=21.3 in /opt/anaconda3/lib/python3.12/site-packages (from pytesseract) (24.1)\n",
      "Requirement already satisfied: numpy>=1.21.2 in /opt/anaconda3/lib/python3.12/site-packages (from opencv-python) (1.26.4)\n",
      "Note: you may need to restart the kernel to use updated packages.\n"
     ]
    }
   ],
   "source": [
    "pip install pytesseract pillow opencv-python"
   ]
  },
  {
   "cell_type": "code",
   "execution_count": 32,
   "id": "eb6bc233-45ff-4270-94df-57f916012eac",
   "metadata": {},
   "outputs": [
    {
     "name": "stdout",
     "output_type": "stream",
     "text": [
      "📄 5.PNG - 추출된 텍스트:\n",
      "©6®@ —O\n",
      "가천 헤 커 톤 최 서 연\n",
      "a}: 2 eos\n",
      "안녕 내일 몇 시 에 만 날 래 ? ~\n",
      "\n",
      "오후 9 시 12 분 에 가 천 대 학 교 에서 만 나 는 거 Of\n",
      "\n",
      "만나서 피시방 가서 를 하자\n",
      "\n",
      "오조 가 / ME 마 라 탕 먹자\n",
      "\n",
      "^) 가천 혜 커튼 최 서 연\n",
      "~ 일 겠어 그 렇 게 하자 og ay\n",
      "© OPQ 00 전송\n",
      "\n"
     ]
    }
   ],
   "source": [
    "import os\n",
    "import pytesseract\n",
    "import cv2\n",
    "from PIL import Image\n",
    "\n",
    "# OCR을 수행할 이미지 파일명\n",
    "image_filename = \"5.PNG\"\n",
    "image_path = os.path.abspath(image_filename)\n",
    "\n",
    "try:\n",
    "    # 1️⃣ 이미지 불러오기\n",
    "    img = cv2.imread(image_path)\n",
    "\n",
    "    # 2️⃣ 이미지 해상도 조정 (1.5배 확대)\n",
    "    scale_percent = 150\n",
    "    width = int(img.shape[1] * scale_percent / 100)\n",
    "    height = int(img.shape[0] * scale_percent / 100)\n",
    "    img = cv2.resize(img, (width, height), interpolation=cv2.INTER_CUBIC)\n",
    "\n",
    "    # 3️⃣ 흑백 변환 & 명암 대비 향상\n",
    "    gray = cv2.cvtColor(img, cv2.COLOR_BGR2GRAY)\n",
    "    equalized = cv2.equalizeHist(gray)\n",
    "\n",
    "    # 4️⃣ 노이즈 제거 (Median Blur)\n",
    "    denoised = cv2.medianBlur(equalized, 3)\n",
    "\n",
    "    # 5️⃣ 가우시안 블러 후 Otsu 이진화\n",
    "    blur = cv2.GaussianBlur(denoised, (5, 5), 0)\n",
    "    _, binary = cv2.threshold(blur, 0, 255, cv2.THRESH_BINARY + cv2.THRESH_OTSU)\n",
    "\n",
    "    # 6️⃣ 모폴로지 연산 (Dilation & Erosion)\n",
    "    kernel = cv2.getStructuringElement(cv2.MORPH_RECT, (2,2))\n",
    "    morphed = cv2.morphologyEx(binary, cv2.MORPH_CLOSE, kernel)\n",
    "\n",
    "    # 7️⃣ OCR 실행 (딥러닝 기반 엔진 사용)\n",
    "    config = \"--oem 1 --psm 6\"\n",
    "    extracted_text = pytesseract.image_to_string(morphed, lang=\"eng+kor\", config=config)\n",
    "\n",
    "    # 8️⃣ 결과 출력\n",
    "    print(f\"📄 {image_filename} - 추출된 텍스트:\")\n",
    "    print(extracted_text)\n",
    "\n",
    "except FileNotFoundError:\n",
    "    print(f\"❌ 오류: '{image_filename}' 파일을 찾을 수 없습니다.\")\n",
    "\n",
    "except Exception as e:\n",
    "    print(f\"❌ 오류: {e}\")\n"
   ]
  },
  {
   "cell_type": "code",
   "execution_count": null,
   "id": "3b2df1e5-27b3-4dba-addc-b3f91cede651",
   "metadata": {},
   "outputs": [],
   "source": []
  }
 ],
 "metadata": {
  "kernelspec": {
   "display_name": "Python 3 (ipykernel)",
   "language": "python",
   "name": "python3"
  },
  "language_info": {
   "codemirror_mode": {
    "name": "ipython",
    "version": 3
   },
   "file_extension": ".py",
   "mimetype": "text/x-python",
   "name": "python",
   "nbconvert_exporter": "python",
   "pygments_lexer": "ipython3",
   "version": "3.12.7"
  }
 },
 "nbformat": 4,
 "nbformat_minor": 5
}
