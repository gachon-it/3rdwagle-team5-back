{
 "cells": [
  {
   "cell_type": "code",
   "execution_count": 14,
   "id": "bcfe0db8-8364-497c-beda-f3aa8a4a3f48",
   "metadata": {},
   "outputs": [
    {
     "name": "stdout",
     "output_type": "stream",
     "text": [
      "Requirement already satisfied: pytesseract in /opt/anaconda3/lib/python3.12/site-packages (0.3.13)\n",
      "Requirement already satisfied: pillow in /opt/anaconda3/lib/python3.12/site-packages (10.4.0)\n",
      "Requirement already satisfied: opencv-python in /opt/anaconda3/lib/python3.12/site-packages (4.11.0.86)\n",
      "Requirement already satisfied: packaging>=21.3 in /opt/anaconda3/lib/python3.12/site-packages (from pytesseract) (24.1)\n",
      "Requirement already satisfied: numpy>=1.21.2 in /opt/anaconda3/lib/python3.12/site-packages (from opencv-python) (1.26.4)\n",
      "Note: you may need to restart the kernel to use updated packages.\n"
     ]
    }
   ],
   "source": [
    "pip install pytesseract pillow opencv-python"
   ]
  },
  {
   "cell_type": "code",
   "execution_count": 4,
   "id": "90756b5d-9278-403b-9e73-dc0312be1360",
   "metadata": {},
   "outputs": [
    {
     "name": "stdout",
     "output_type": "stream",
     "text": [
      "📄 4.PNG - 추출된 텍스트:\n",
      "rt\n",
      "ote) ㅇ\n",
      "~\n",
      "3rdwagle-5 =\n",
      "= 06\n",
      "@\n",
      "@ 지 영인 저 장 소 의 Branch Protection Rules= 인해 푸 시 가 차 단 되었습니다.\n",
      "제 계 정 을 푸시 가 능 하 도록 추 가 해 주실 수 있나요? 0208\n",
      "O=\n",
      "692 [프로젝트 흐름 정리]\n",
      "1. ZEE (Android)\n",
      "- 사 진 에서 일정 정보 (날짜, 시간, 이 벤 트 명 등) 추출\n",
      "- 추출한 정보 백 엔 드로 전송\n",
      "2. 백 엔 드 (4006.15 + GPT API)\n",
      "- 받은 일정 정 보 를 (6『7 에 전 달 하여 일정한 ISON 형 태 로 변환\n",
      "- 변 환 된 ISON 데 이 터 를 프 론 트 에 반환\n",
      "3. ZEE (Android)\n",
      "- 백 엔 드 에서 받은 JSON 일정 BSS Google Calendar APIO 등록\n",
      "채 진 성 에게 답장\n",
      "@ 지 영인 저 장 소 의 Branch Protection Rules= 인해 푸 시 가 차 단 되었습니다.\n",
      "제 계 정 을 푸시 가 능 하 도록 추 가 해 주실 수 있나요?\n",
      "늦 은 답변 죄 송 합니다! 030( 레 포 지 토 리 에서 동 일 하게 문제 발 생 하 는 것 일까요? ~)\n",
      "|\n",
      "©Pv1 전송\n",
      "\n"
     ]
    }
   ],
   "source": [
    "import os\n",
    "import pytesseract\n",
    "import cv2\n",
    "from PIL import Image\n",
    "\n",
    "# OCR을 수행할 이미지 파일명\n",
    "image_filename = \"4.PNG\"\n",
    "image_path = os.path.abspath(image_filename)\n",
    "\n",
    "# 이미지 열기 (OpenCV 사용)\n",
    "try:\n",
    "    img = cv2.imread(image_path)\n",
    "\n",
    "    # 이미지 전처리: 흑백 변환 (Grayscale)\n",
    "    gray = cv2.cvtColor(img, cv2.COLOR_BGR2GRAY)\n",
    "\n",
    "    # 이미지 전처리: 이진화 (Thresholding)\n",
    "    _, binary = cv2.threshold(gray, 150, 255, cv2.THRESH_BINARY + cv2.THRESH_OTSU)\n",
    "\n",
    "    # 배경 제거 (Adaptive Thresholding)\n",
    "    adaptive_thresh = cv2.adaptiveThreshold(\n",
    "        binary, 255, cv2.ADAPTIVE_THRESH_GAUSSIAN_C, cv2.THRESH_BINARY, 11, 2\n",
    "    )\n",
    "\n",
    "    # ✅ 노이즈 제거 (Gaussian Blur)\n",
    "    denoised = cv2.GaussianBlur(adaptive_thresh, (3, 3), 0)\n",
    "\n",
    "    # ✅ OCR 실행 (한국어 + 영어 지원) & 무작위 문자 방지 (--psm 6 설정)\n",
    "    config = \"--psm 6\"\n",
    "    extracted_text = pytesseract.image_to_string(denoised, lang=\"eng+kor\", config=config)\n",
    "\n",
    "    # 결과 출력\n",
    "    print(f\"📄 {image_filename} - 추출된 텍스트:\")\n",
    "    print(extracted_text)\n",
    "\n",
    "except FileNotFoundError:\n",
    "    print(f\"❌ 오류: '{image_filename}' 파일을 찾을 수 없습니다.\")\n",
    "\n",
    "except Exception as e:\n",
    "    print(f\"❌ 오류: {e}\")\n"
   ]
  },
  {
   "cell_type": "code",
   "execution_count": null,
   "id": "eb6bc233-45ff-4270-94df-57f916012eac",
   "metadata": {},
   "outputs": [],
   "source": []
  }
 ],
 "metadata": {
  "kernelspec": {
   "display_name": "Python 3 (ipykernel)",
   "language": "python",
   "name": "python3"
  },
  "language_info": {
   "codemirror_mode": {
    "name": "ipython",
    "version": 3
   },
   "file_extension": ".py",
   "mimetype": "text/x-python",
   "name": "python",
   "nbconvert_exporter": "python",
   "pygments_lexer": "ipython3",
   "version": "3.12.7"
  }
 },
 "nbformat": 4,
 "nbformat_minor": 5
}
